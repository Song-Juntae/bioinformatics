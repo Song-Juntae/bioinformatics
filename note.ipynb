{
 "cells": [
  {
   "cell_type": "code",
   "execution_count": null,
   "metadata": {},
   "outputs": [],
   "source": [
    "# note"
   ]
  }
 ],
 "metadata": {
  "kernelspec": {
   "display_name": "ncbi_datasets",
   "language": "python",
   "name": "python3"
  },
  "language_info": {
   "name": "python",
   "version": "3.12.1"
  }
 },
 "nbformat": 4,
 "nbformat_minor": 2
}
